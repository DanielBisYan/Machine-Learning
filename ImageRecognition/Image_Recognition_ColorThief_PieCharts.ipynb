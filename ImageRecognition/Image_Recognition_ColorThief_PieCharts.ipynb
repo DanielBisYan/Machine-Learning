{
 "cells": [
  {
   "cell_type": "markdown",
   "metadata": {},
   "source": [
    "## Image recognition with ColorThief\n",
    "\n",
    "#### class ExtractColor takes two attributes: \n",
    "* path (to folder with images)\n",
    "* number_of_colors (the number of palette colors)\n",
    "\n",
    "Note: when adding path, make sure to add \"r\" before the string like:\n",
    "path = r'C:\\daniel\\images'"
   ]
  },
  {
   "cell_type": "code",
   "execution_count": 216,
   "metadata": {},
   "outputs": [],
   "source": [
    "from colorthief import ColorThief\n",
    "import webcolors as wc\n",
    "import numpy as np\n",
    "import pandas as pd\n",
    "from collections import Counter\n",
    "import os\n",
    "from collections import Counter\n",
    "%matplotlib inline\n",
    "import matplotlib.pyplot as plt\n",
    "import matplotlib\n",
    "from operator import itemgetter"
   ]
  },
  {
   "cell_type": "code",
   "execution_count": 336,
   "metadata": {},
   "outputs": [],
   "source": [
    "class ExtractColor():\n",
    "    def __init__(self, path, number_of_colors):\n",
    "        self.path = path\n",
    "        self.number_of_colors = number_of_colors\n",
    "    \n",
    "    def get_rgb_colors(self):\n",
    "        \n",
    "        #access images from a folder\n",
    "        all_images = [file for file in os.listdir(self.path)]\n",
    "        #print(all_images)\n",
    "        \n",
    "        #loop through files -> getting dominant/pallete\n",
    "        #returns list of rgb\n",
    "        dominant_colors = []\n",
    "        palette_colors = []\n",
    "\n",
    "        for image in all_images:\n",
    "            #image = 'images/' + image\n",
    "            color_thief = ColorThief(path+\"\\\\\"+image)\n",
    "            domintant_color = color_thief.get_color(quality=1)\n",
    "            palette = color_thief.get_palette(color_count=self.number_of_colors)\n",
    "            dominant_colors.append(domintant_color)\n",
    "            palette_colors.append(palette) \n",
    "        return [dominant_colors, palette_colors]\n",
    "        \n",
    "    def get_eng_colors(self):  \n",
    "        #convert\n",
    "        \n",
    "        dominant_colors = self.get_rgb_colors()\n",
    "        palette_colors = self.get_rgb_colors()\n",
    "        \n",
    "        dominant_colors_english = []\n",
    "        palette_colors_english = []\n",
    "\n",
    "        for color_rgb in dominant_colors[0]:\n",
    "            dominant_colors_english.append(self.get_color_name(wc.rgb_to_hex(color_rgb)))\n",
    "    \n",
    "        for colors_list in palette_colors[1]:\n",
    "            for color_rgb in colors_list:\n",
    "                palette_colors_english.append(self.get_color_name(wc.rgb_to_hex(color_rgb)))\n",
    "        #return dominant_colors_english, palette_colors_english  \n",
    "        #BELOW IS JUST AN ADDITION TO MAKE IT COUNT ITEMS IN A LIST\n",
    "        \n",
    "        return [dict(Counter(dominant_colors_english)), dict(Counter(palette_colors_english))]\n",
    "        \n",
    "    def get_approx_color(self, hex_color):\n",
    "        orig = wc.hex_to_rgb(hex_color)\n",
    "        similarity = {}\n",
    "        for hex_code, color_name in wc.css3_hex_to_names.items():\n",
    "            approx = wc.hex_to_rgb(hex_code)\n",
    "            similarity[color_name] = sum(np.subtract(orig, approx) ** 2)\n",
    "        return min(similarity, key=similarity.get)\n",
    "\n",
    "    def get_color_name(self, hex_color):\n",
    "        try:\n",
    "            return wc.hex_to_name(hex_color)\n",
    "        except ValueError:\n",
    "            return self.get_approx_color(hex_color)\n",
    "        \n",
    "def create_charts(lists_of_colors):\n",
    "    \n",
    "    sorted_lists_order = []\n",
    "    for type_of_color in lists_of_colors:\n",
    "        sorted_lists_order.append(sorted(type_of_color.items(), key=itemgetter(1)))\n",
    "    \n",
    "    dominant_colors_sorted = []\n",
    "    for eng_color in sorted_lists_order[0][::-1]:\n",
    "        dominant_colors_sorted.append(matplotlib.colors.cnames[eng_color[0]])\n",
    "    palette_colors_sorted = []\n",
    "    for eng_color in sorted_lists_order[1][::-1]:\n",
    "        palette_colors_sorted.append(matplotlib.colors.cnames[eng_color[0]])\n",
    "    \n",
    "    dominant_colors_sorted_eng = []\n",
    "    for x in sorted_lists_order[0][::-1]:\n",
    "        dominant_colors_sorted_eng.append(x[0])\n",
    "    \n",
    "    palette_colors_sorted_eng = []\n",
    "    for x in sorted_lists_order[1][::-1]:\n",
    "        palette_colors_sorted_eng.append(x[0])\n",
    "    \n",
    "    \n",
    "    \n",
    "    # return pie chart of dominant colors\n",
    "    plt.figure(figsize = (8, 6))\n",
    "    plt.pie(lists_of_colors[0].values(),labels = dominant_colors_sorted_eng, labeldistance=1.2, autopct='%1.0f%%',pctdistance=1.1, colors = dominant_colors_sorted)\n",
    "    \n",
    "    # return pie chart of palette colors\n",
    "    plt.figure(figsize = (8, 6))\n",
    "    plt.pie(lists_of_colors[1].values(),labels =palette_colors_sorted_eng, labeldistance=1.2, autopct='%1.0f%%',pctdistance=1.1, colors = palette_colors_sorted)\n",
    "    \n",
    "    return dominant_colors_sorted,palette_colors_sorted ,dominant_colors_sorted_eng,  palette_colors_sorted_eng"
   ]
  },
  {
   "cell_type": "code",
   "execution_count": 339,
   "metadata": {},
   "outputs": [],
   "source": [
    "path = r'C:\\Users\\Daniel\\Desktop\\Daniel Working Folder\\Reports\\Marketing Ways - Polish Competition\\Online Shops\\emag\\Haloween'\n",
    "emag_bw = ExtractColor(path, 5)"
   ]
  },
  {
   "cell_type": "code",
   "execution_count": 340,
   "metadata": {
    "scrolled": true
   },
   "outputs": [],
   "source": [
    "blackweek = emag_bw.get_eng_colors()"
   ]
  },
  {
   "cell_type": "code",
   "execution_count": 341,
   "metadata": {},
   "outputs": [
    {
     "data": {
      "text/plain": [
       "[{'burlywood': 3},\n",
       " {'burlywood': 3,\n",
       "  'black': 2,\n",
       "  'darkorange': 2,\n",
       "  'orangered': 2,\n",
       "  'lightgrey': 2,\n",
       "  'chocolate': 1,\n",
       "  'gainsboro': 1,\n",
       "  'darkslategrey': 1,\n",
       "  'coral': 1}]"
      ]
     },
     "execution_count": 341,
     "metadata": {},
     "output_type": "execute_result"
    }
   ],
   "source": [
    "blackweek"
   ]
  },
  {
   "cell_type": "code",
   "execution_count": 342,
   "metadata": {},
   "outputs": [
    {
     "data": {
      "text/plain": [
       "(['#DEB887'],\n",
       " ['#DEB887',\n",
       "  '#D3D3D3',\n",
       "  '#FF4500',\n",
       "  '#FF8C00',\n",
       "  '#000000',\n",
       "  '#FF7F50',\n",
       "  '#2F4F4F',\n",
       "  '#DCDCDC',\n",
       "  '#D2691E'],\n",
       " ['burlywood'],\n",
       " ['burlywood',\n",
       "  'lightgrey',\n",
       "  'orangered',\n",
       "  'darkorange',\n",
       "  'black',\n",
       "  'coral',\n",
       "  'darkslategrey',\n",
       "  'gainsboro',\n",
       "  'chocolate'])"
      ]
     },
     "execution_count": 342,
     "metadata": {},
     "output_type": "execute_result"
    },
    {
     "data": {
      "image/png": "[encoded data removed]",
      "text/plain": [
       "<Figure size 576x432 with 1 Axes>"
      ]
     },
     "metadata": {},
     "output_type": "display_data"
    },
    {
     "data": {
      "image/png": "[encoded data removed]",
      "text/plain": [
       "<Figure size 576x432 with 1 Axes>"
      ]
     },
     "metadata": {},
     "output_type": "display_data"
    }
   ],
   "source": [
    "create_charts(blackweek)"
   ]
  },
  {
   "cell_type": "code",
   "execution_count": 272,
   "metadata": {},
   "outputs": [],
   "source": []
  },
  {
   "cell_type": "code",
   "execution_count": 275,
   "metadata": {},
   "outputs": [
    {
     "data": {
      "text/plain": [
       "[1, 1, 1, 2]"
      ]
     },
     "execution_count": 275,
     "metadata": {},
     "output_type": "execute_result"
    }
   ],
   "source": []
  },
  {
   "cell_type": "code",
   "execution_count": null,
   "metadata": {},
   "outputs": [],
   "source": []
  }
 ],
 "metadata": {
  "kernelspec": {
   "display_name": "Python 3",
   "language": "python",
   "name": "python3"
  },
  "language_info": {
   "codemirror_mode": {
    "name": "ipython",
    "version": 3
   },
   "file_extension": ".py",
   "mimetype": "text/x-python",
   "name": "python",
   "nbconvert_exporter": "python",
   "pygments_lexer": "ipython3",
   "version": "3.7.4"
  }
 },
 "nbformat": 4,
 "nbformat_minor": 2
}
