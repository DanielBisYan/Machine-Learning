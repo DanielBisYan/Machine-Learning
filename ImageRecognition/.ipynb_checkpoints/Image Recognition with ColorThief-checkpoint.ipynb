{
 "cells": [
  {
   "cell_type": "markdown",
   "metadata": {},
   "source": [
    "## Extracting dominant color plus pallete of colors from an image\n",
    "\n",
    "#### The library used for color extracting: [ColorThief](https://github.com/fengsp/color-thief-py) "
   ]
  },
  {
   "cell_type": "code",
   "execution_count": 25,
   "metadata": {},
   "outputs": [],
   "source": [
    "from colorthief import ColorThief\n",
    "import webcolors as wc\n",
    "import numpy as np"
   ]
  },
  {
   "cell_type": "code",
   "execution_count": 26,
   "metadata": {},
   "outputs": [],
   "source": [
    "color_thief = ColorThief('banner.jpg')"
   ]
  },
  {
   "cell_type": "code",
   "execution_count": 27,
   "metadata": {},
   "outputs": [],
   "source": [
    "domintant_color = color_thief.get_color(quality=1)"
   ]
  },
  {
   "cell_type": "code",
   "execution_count": 29,
   "metadata": {},
   "outputs": [
    {
     "data": {
      "text/plain": [
       "[(233, 233, 231),\n",
       " (57, 162, 158),\n",
       " (13, 12, 13),\n",
       " (185, 139, 95),\n",
       " (172, 164, 166),\n",
       " (221, 28, 27),\n",
       " (69, 98, 94),\n",
       " (234, 217, 32),\n",
       " (241, 90, 16),\n",
       " (140, 202, 202),\n",
       " (47, 115, 160),\n",
       " (131, 59, 48),\n",
       " (209, 91, 98),\n",
       " (172, 35, 35),\n",
       " (206, 53, 63),\n",
       " (216, 33, 45),\n",
       " (194, 36, 39),\n",
       " (245, 20, 28),\n",
       " (205, 53, 47)]"
      ]
     },
     "execution_count": 29,
     "metadata": {},
     "output_type": "execute_result"
    }
   ],
   "source": [
    "palette = color_thief.get_palette(color_count=20)\n",
    "palette"
   ]
  },
  {
   "cell_type": "markdown",
   "metadata": {},
   "source": [
    "## Converting RGB color to English color name"
   ]
  },
  {
   "cell_type": "code",
   "execution_count": 30,
   "metadata": {},
   "outputs": [],
   "source": [
    "# Getting approx color\n",
    "def get_approx_color(hex_color):\n",
    "    orig = wc.hex_to_rgb(hex_color)\n",
    "    similarity = {}\n",
    "    for hex_code, color_name in wc.css3_hex_to_names.items():\n",
    "        approx = wc.hex_to_rgb(hex_code)\n",
    "        similarity[color_name] = sum(np.subtract(orig, approx) ** 2)\n",
    "    return min(similarity, key=similarity.get)\n",
    "\n",
    "# Getting the exact color\n",
    "def get_color_name(hex_color):\n",
    "    try:\n",
    "        return wc.hex_to_name(hex_color)\n",
    "    except ValueError:\n",
    "        return get_approx_color(hex_color)"
   ]
  },
  {
   "cell_type": "code",
   "execution_count": 31,
   "metadata": {},
   "outputs": [
    {
     "data": {
      "text/plain": [
       "'darkviolet'"
      ]
     },
     "execution_count": 31,
     "metadata": {},
     "output_type": "execute_result"
    }
   ],
   "source": [
    "get_color_name(wc.rgb_to_hex((120, 0, 255)))"
   ]
  },
  {
   "cell_type": "markdown",
   "metadata": {},
   "source": [
    "## Accessing images from a folder\n"
   ]
  },
  {
   "cell_type": "code",
   "execution_count": 7,
   "metadata": {},
   "outputs": [
    {
     "name": "stdout",
     "output_type": "stream",
     "text": [
      "['banner.JPG', 'colors.jpg', 'Daniel1.jpg']\n"
     ]
    }
   ],
   "source": [
    "import os\n",
    "\n",
    "all_images = [file for file in os.listdir(r'C:\\Users\\bisku\\Desktop\\Machine_learning\\Machine_Learning\\ImageRecognition\\images')]\n",
    "print(all_images)"
   ]
  },
  {
   "cell_type": "markdown",
   "metadata": {},
   "source": [
    "## Looping through images and appending their dominant color to a list and pallete colors to a list\n",
    "\n",
    "#### returns lists of RGB colors"
   ]
  },
  {
   "cell_type": "code",
   "execution_count": 24,
   "metadata": {},
   "outputs": [
    {
     "ename": "KeyboardInterrupt",
     "evalue": "",
     "output_type": "error",
     "traceback": [
      "\u001b[1;31m---------------------------------------------------------------------------\u001b[0m",
      "\u001b[1;31mKeyboardInterrupt\u001b[0m                         Traceback (most recent call last)",
      "\u001b[1;32m<ipython-input-24-ac0199387075>\u001b[0m in \u001b[0;36m<module>\u001b[1;34m\u001b[0m\n\u001b[0;32m      6\u001b[0m     \u001b[0mcolor_thief\u001b[0m \u001b[1;33m=\u001b[0m \u001b[0mColorThief\u001b[0m\u001b[1;33m(\u001b[0m\u001b[0mimage\u001b[0m\u001b[1;33m)\u001b[0m\u001b[1;33m\u001b[0m\u001b[1;33m\u001b[0m\u001b[0m\n\u001b[0;32m      7\u001b[0m     \u001b[0mdomintant_color\u001b[0m \u001b[1;33m=\u001b[0m \u001b[0mcolor_thief\u001b[0m\u001b[1;33m.\u001b[0m\u001b[0mget_color\u001b[0m\u001b[1;33m(\u001b[0m\u001b[0mquality\u001b[0m\u001b[1;33m=\u001b[0m\u001b[1;36m1\u001b[0m\u001b[1;33m)\u001b[0m\u001b[1;33m\u001b[0m\u001b[1;33m\u001b[0m\u001b[0m\n\u001b[1;32m----> 8\u001b[1;33m     \u001b[0mpalette\u001b[0m \u001b[1;33m=\u001b[0m \u001b[0mcolor_thief\u001b[0m\u001b[1;33m.\u001b[0m\u001b[0mget_palette\u001b[0m\u001b[1;33m(\u001b[0m\u001b[0mcolor_count\u001b[0m\u001b[1;33m=\u001b[0m\u001b[1;36m20\u001b[0m\u001b[1;33m)\u001b[0m\u001b[1;33m\u001b[0m\u001b[1;33m\u001b[0m\u001b[0m\n\u001b[0m\u001b[0;32m      9\u001b[0m     \u001b[0mdominant_colors\u001b[0m\u001b[1;33m.\u001b[0m\u001b[0mappend\u001b[0m\u001b[1;33m(\u001b[0m\u001b[0mdomintant_color\u001b[0m\u001b[1;33m)\u001b[0m\u001b[1;33m\u001b[0m\u001b[1;33m\u001b[0m\u001b[0m\n\u001b[0;32m     10\u001b[0m     \u001b[0mpalette_colors\u001b[0m\u001b[1;33m.\u001b[0m\u001b[0mappend\u001b[0m\u001b[1;33m(\u001b[0m\u001b[0mpalette\u001b[0m\u001b[1;33m)\u001b[0m\u001b[1;33m\u001b[0m\u001b[1;33m\u001b[0m\u001b[0m\n",
      "\u001b[1;32m~\\Anaconda3\\lib\\site-packages\\colorthief.py\u001b[0m in \u001b[0;36mget_palette\u001b[1;34m(self, color_count, quality)\u001b[0m\n\u001b[0;32m     67\u001b[0m         \u001b[0mvalid_pixels\u001b[0m \u001b[1;33m=\u001b[0m \u001b[1;33m[\u001b[0m\u001b[1;33m]\u001b[0m\u001b[1;33m\u001b[0m\u001b[1;33m\u001b[0m\u001b[0m\n\u001b[0;32m     68\u001b[0m         \u001b[1;32mfor\u001b[0m \u001b[0mi\u001b[0m \u001b[1;32min\u001b[0m \u001b[0mrange\u001b[0m\u001b[1;33m(\u001b[0m\u001b[1;36m0\u001b[0m\u001b[1;33m,\u001b[0m \u001b[0mpixel_count\u001b[0m\u001b[1;33m,\u001b[0m \u001b[0mquality\u001b[0m\u001b[1;33m)\u001b[0m\u001b[1;33m:\u001b[0m\u001b[1;33m\u001b[0m\u001b[1;33m\u001b[0m\u001b[0m\n\u001b[1;32m---> 69\u001b[1;33m             \u001b[0mr\u001b[0m\u001b[1;33m,\u001b[0m \u001b[0mg\u001b[0m\u001b[1;33m,\u001b[0m \u001b[0mb\u001b[0m\u001b[1;33m,\u001b[0m \u001b[0ma\u001b[0m \u001b[1;33m=\u001b[0m \u001b[0mpixels\u001b[0m\u001b[1;33m[\u001b[0m\u001b[0mi\u001b[0m\u001b[1;33m]\u001b[0m\u001b[1;33m\u001b[0m\u001b[1;33m\u001b[0m\u001b[0m\n\u001b[0m\u001b[0;32m     70\u001b[0m             \u001b[1;31m# If pixel is mostly opaque and not white\u001b[0m\u001b[1;33m\u001b[0m\u001b[1;33m\u001b[0m\u001b[1;33m\u001b[0m\u001b[0m\n\u001b[0;32m     71\u001b[0m             \u001b[1;32mif\u001b[0m \u001b[0ma\u001b[0m \u001b[1;33m>=\u001b[0m \u001b[1;36m125\u001b[0m\u001b[1;33m:\u001b[0m\u001b[1;33m\u001b[0m\u001b[1;33m\u001b[0m\u001b[0m\n",
      "\u001b[1;31mKeyboardInterrupt\u001b[0m: "
     ]
    }
   ],
   "source": [
    "dominant_colors = []\n",
    "palette_colors = []\n",
    "\n",
    "for image in all_images:\n",
    "    image = 'images/' + image\n",
    "    color_thief = ColorThief(image)\n",
    "    domintant_color = color_thief.get_color(quality=1)\n",
    "    palette = color_thief.get_palette(color_count=20)\n",
    "    dominant_colors.append(domintant_color)\n",
    "    palette_colors.append(palette) \n",
    "dominant_colors"
   ]
  },
  {
   "cell_type": "markdown",
   "metadata": {},
   "source": [
    "## Converting list of rgb colors to English names"
   ]
  },
  {
   "cell_type": "code",
   "execution_count": 9,
   "metadata": {},
   "outputs": [],
   "source": [
    "dominant_colors_english = []\n",
    "palette_colors_english = []\n",
    "\n",
    "for color_rgb in dominant_colors:\n",
    "    dominant_colors_english.append(get_color_name(wc.rgb_to_hex(color_rgb)))\n",
    "    \n",
    "for colors_list in palette_colors:\n",
    "    for color_rgb in colors_list:\n",
    "        palette_colors_english.append(get_color_name(wc.rgb_to_hex(color_rgb)))"
   ]
  },
  {
   "cell_type": "code",
   "execution_count": 10,
   "metadata": {},
   "outputs": [
    {
     "data": {
      "text/plain": [
       "['darkslategrey', 'crimson', 'lightgrey']"
      ]
     },
     "execution_count": 10,
     "metadata": {},
     "output_type": "execute_result"
    }
   ],
   "source": [
    "dominant_colors_english"
   ]
  },
  {
   "cell_type": "code",
   "execution_count": 11,
   "metadata": {},
   "outputs": [
    {
     "data": {
      "text/plain": [
       "['linen',\n",
       " 'lightseagreen',\n",
       " 'black',\n",
       " 'peru',\n",
       " 'darkgrey',\n",
       " 'crimson',\n",
       " 'darkslategrey',\n",
       " 'gold',\n",
       " 'orangered',\n",
       " 'skyblue',\n",
       " 'steelblue',\n",
       " 'saddlebrown',\n",
       " 'indianred',\n",
       " 'firebrick',\n",
       " 'crimson',\n",
       " 'crimson',\n",
       " 'firebrick',\n",
       " 'red',\n",
       " 'firebrick',\n",
       " 'lightgrey',\n",
       " 'greenyellow',\n",
       " 'royalblue',\n",
       " 'crimson',\n",
       " 'indianred',\n",
       " 'rosybrown',\n",
       " 'slateblue',\n",
       " 'indianred',\n",
       " 'firebrick',\n",
       " 'chocolate',\n",
       " 'dimgrey',\n",
       " 'brown',\n",
       " 'crimson',\n",
       " 'mediumpurple',\n",
       " 'firebrick',\n",
       " 'crimson',\n",
       " 'crimson',\n",
       " 'crimson',\n",
       " 'red',\n",
       " 'darkslategrey',\n",
       " 'dimgrey',\n",
       " 'grey',\n",
       " 'grey',\n",
       " 'rosybrown',\n",
       " 'gainsboro',\n",
       " 'darkgrey',\n",
       " 'tan',\n",
       " 'tan',\n",
       " 'linen',\n",
       " 'lightpink',\n",
       " 'grey',\n",
       " 'silver',\n",
       " 'honeydew',\n",
       " 'lightgrey',\n",
       " 'pink',\n",
       " 'dimgrey',\n",
       " 'dimgrey',\n",
       " 'mediumpurple']"
      ]
     },
     "execution_count": 11,
     "metadata": {},
     "output_type": "execute_result"
    }
   ],
   "source": [
    "palette_colors_english"
   ]
  },
  {
   "cell_type": "markdown",
   "metadata": {},
   "source": [
    "## Checking how many times color occurs in a list"
   ]
  },
  {
   "cell_type": "code",
   "execution_count": 12,
   "metadata": {},
   "outputs": [],
   "source": [
    "from collections import Counter\n",
    "import pandas as pd"
   ]
  },
  {
   "cell_type": "code",
   "execution_count": 13,
   "metadata": {},
   "outputs": [],
   "source": [
    "palette_eng_dict = dict(Counter(palette_colors_english))"
   ]
  },
  {
   "cell_type": "code",
   "execution_count": 14,
   "metadata": {},
   "outputs": [],
   "source": [
    "dominant_eng_dict = dict(Counter(dominant_colors_english))"
   ]
  },
  {
   "cell_type": "code",
   "execution_count": 15,
   "metadata": {},
   "outputs": [
    {
     "data": {
      "text/plain": [
       "{'linen': 2,\n",
       " 'lightseagreen': 1,\n",
       " 'black': 1,\n",
       " 'peru': 1,\n",
       " 'darkgrey': 2,\n",
       " 'crimson': 8,\n",
       " 'darkslategrey': 2,\n",
       " 'gold': 1,\n",
       " 'orangered': 1,\n",
       " 'skyblue': 1,\n",
       " 'steelblue': 1,\n",
       " 'saddlebrown': 1,\n",
       " 'indianred': 3,\n",
       " 'firebrick': 5,\n",
       " 'red': 2,\n",
       " 'lightgrey': 2,\n",
       " 'greenyellow': 1,\n",
       " 'royalblue': 1,\n",
       " 'rosybrown': 2,\n",
       " 'slateblue': 1,\n",
       " 'chocolate': 1,\n",
       " 'dimgrey': 4,\n",
       " 'brown': 1,\n",
       " 'mediumpurple': 2,\n",
       " 'grey': 3,\n",
       " 'gainsboro': 1,\n",
       " 'tan': 2,\n",
       " 'lightpink': 1,\n",
       " 'silver': 1,\n",
       " 'honeydew': 1,\n",
       " 'pink': 1}"
      ]
     },
     "execution_count": 15,
     "metadata": {},
     "output_type": "execute_result"
    }
   ],
   "source": [
    "palette_eng_dict"
   ]
  },
  {
   "cell_type": "markdown",
   "metadata": {},
   "source": [
    "## Coverting dictionary of colors to pandas data frame"
   ]
  },
  {
   "cell_type": "markdown",
   "metadata": {},
   "source": [
    "#### Converting \"Counter(dominant_colors_english)\" values to list, so we can convert it to data frame"
   ]
  },
  {
   "cell_type": "code",
   "execution_count": 16,
   "metadata": {},
   "outputs": [],
   "source": [
    "def convert_dictvalues_to_list(dictionary):\n",
    "    make_list = []\n",
    "    for key in dictionary:\n",
    "        make_list.append(dictionary[key])\n",
    "        dictionary[key] = make_list\n",
    "        make_list = []\n",
    "    return dictionary"
   ]
  },
  {
   "cell_type": "code",
   "execution_count": 17,
   "metadata": {},
   "outputs": [],
   "source": [
    "dominant_data = convert_dictvalues_to_list(dominant_eng_dict)"
   ]
  },
  {
   "cell_type": "code",
   "execution_count": 18,
   "metadata": {},
   "outputs": [],
   "source": [
    "palette_data = convert_dictvalues_to_list(palette_eng_dict)"
   ]
  },
  {
   "cell_type": "code",
   "execution_count": 19,
   "metadata": {},
   "outputs": [],
   "source": [
    "dominant_df = pd.DataFrame.from_dict(dominant_data)"
   ]
  },
  {
   "cell_type": "code",
   "execution_count": 20,
   "metadata": {},
   "outputs": [
    {
     "data": {
      "text/html": [
       "<div>\n",
       "<style scoped>\n",
       "    .dataframe tbody tr th:only-of-type {\n",
       "        vertical-align: middle;\n",
       "    }\n",
       "\n",
       "    .dataframe tbody tr th {\n",
       "        vertical-align: top;\n",
       "    }\n",
       "\n",
       "    .dataframe thead th {\n",
       "        text-align: right;\n",
       "    }\n",
       "</style>\n",
       "<table border=\"1\" class=\"dataframe\">\n",
       "  <thead>\n",
       "    <tr style=\"text-align: right;\">\n",
       "      <th></th>\n",
       "      <th>darkslategrey</th>\n",
       "      <th>crimson</th>\n",
       "      <th>lightgrey</th>\n",
       "    </tr>\n",
       "  </thead>\n",
       "  <tbody>\n",
       "    <tr>\n",
       "      <th>0</th>\n",
       "      <td>1</td>\n",
       "      <td>1</td>\n",
       "      <td>1</td>\n",
       "    </tr>\n",
       "  </tbody>\n",
       "</table>\n",
       "</div>"
      ],
      "text/plain": [
       "   darkslategrey  crimson  lightgrey\n",
       "0              1        1          1"
      ]
     },
     "execution_count": 20,
     "metadata": {},
     "output_type": "execute_result"
    }
   ],
   "source": [
    "dominant_df.head()"
   ]
  },
  {
   "cell_type": "code",
   "execution_count": 21,
   "metadata": {},
   "outputs": [],
   "source": [
    "palette_df = pd.DataFrame.from_dict(palette_data)"
   ]
  },
  {
   "cell_type": "code",
   "execution_count": 22,
   "metadata": {},
   "outputs": [
    {
     "data": {
      "text/html": [
       "<div>\n",
       "<style scoped>\n",
       "    .dataframe tbody tr th:only-of-type {\n",
       "        vertical-align: middle;\n",
       "    }\n",
       "\n",
       "    .dataframe tbody tr th {\n",
       "        vertical-align: top;\n",
       "    }\n",
       "\n",
       "    .dataframe thead th {\n",
       "        text-align: right;\n",
       "    }\n",
       "</style>\n",
       "<table border=\"1\" class=\"dataframe\">\n",
       "  <thead>\n",
       "    <tr style=\"text-align: right;\">\n",
       "      <th></th>\n",
       "      <th>linen</th>\n",
       "      <th>lightseagreen</th>\n",
       "      <th>black</th>\n",
       "      <th>peru</th>\n",
       "      <th>darkgrey</th>\n",
       "      <th>crimson</th>\n",
       "      <th>darkslategrey</th>\n",
       "      <th>gold</th>\n",
       "      <th>orangered</th>\n",
       "      <th>skyblue</th>\n",
       "      <th>...</th>\n",
       "      <th>dimgrey</th>\n",
       "      <th>brown</th>\n",
       "      <th>mediumpurple</th>\n",
       "      <th>grey</th>\n",
       "      <th>gainsboro</th>\n",
       "      <th>tan</th>\n",
       "      <th>lightpink</th>\n",
       "      <th>silver</th>\n",
       "      <th>honeydew</th>\n",
       "      <th>pink</th>\n",
       "    </tr>\n",
       "  </thead>\n",
       "  <tbody>\n",
       "    <tr>\n",
       "      <th>0</th>\n",
       "      <td>2</td>\n",
       "      <td>1</td>\n",
       "      <td>1</td>\n",
       "      <td>1</td>\n",
       "      <td>2</td>\n",
       "      <td>8</td>\n",
       "      <td>2</td>\n",
       "      <td>1</td>\n",
       "      <td>1</td>\n",
       "      <td>1</td>\n",
       "      <td>...</td>\n",
       "      <td>4</td>\n",
       "      <td>1</td>\n",
       "      <td>2</td>\n",
       "      <td>3</td>\n",
       "      <td>1</td>\n",
       "      <td>2</td>\n",
       "      <td>1</td>\n",
       "      <td>1</td>\n",
       "      <td>1</td>\n",
       "      <td>1</td>\n",
       "    </tr>\n",
       "  </tbody>\n",
       "</table>\n",
       "<p>1 rows × 31 columns</p>\n",
       "</div>"
      ],
      "text/plain": [
       "   linen  lightseagreen  black  peru  darkgrey  crimson  darkslategrey  gold  \\\n",
       "0      2              1      1     1         2        8              2     1   \n",
       "\n",
       "   orangered  skyblue  ...  dimgrey  brown  mediumpurple  grey  gainsboro  \\\n",
       "0          1        1  ...        4      1             2     3          1   \n",
       "\n",
       "   tan  lightpink  silver  honeydew  pink  \n",
       "0    2          1       1         1     1  \n",
       "\n",
       "[1 rows x 31 columns]"
      ]
     },
     "execution_count": 22,
     "metadata": {},
     "output_type": "execute_result"
    }
   ],
   "source": [
    "palette_df"
   ]
  },
  {
   "cell_type": "code",
   "execution_count": 23,
   "metadata": {},
   "outputs": [
    {
     "data": {
      "text/html": [
       "<div>\n",
       "<style scoped>\n",
       "    .dataframe tbody tr th:only-of-type {\n",
       "        vertical-align: middle;\n",
       "    }\n",
       "\n",
       "    .dataframe tbody tr th {\n",
       "        vertical-align: top;\n",
       "    }\n",
       "\n",
       "    .dataframe thead th {\n",
       "        text-align: right;\n",
       "    }\n",
       "</style>\n",
       "<table border=\"1\" class=\"dataframe\">\n",
       "  <thead>\n",
       "    <tr style=\"text-align: right;\">\n",
       "      <th></th>\n",
       "      <th>crimson</th>\n",
       "      <th>firebrick</th>\n",
       "      <th>dimgrey</th>\n",
       "      <th>indianred</th>\n",
       "      <th>grey</th>\n",
       "      <th>linen</th>\n",
       "      <th>tan</th>\n",
       "      <th>mediumpurple</th>\n",
       "      <th>rosybrown</th>\n",
       "      <th>red</th>\n",
       "      <th>...</th>\n",
       "      <th>saddlebrown</th>\n",
       "      <th>chocolate</th>\n",
       "      <th>slateblue</th>\n",
       "      <th>gold</th>\n",
       "      <th>royalblue</th>\n",
       "      <th>greenyellow</th>\n",
       "      <th>lightseagreen</th>\n",
       "      <th>orangered</th>\n",
       "      <th>skyblue</th>\n",
       "      <th>pink</th>\n",
       "    </tr>\n",
       "  </thead>\n",
       "  <tbody>\n",
       "    <tr>\n",
       "      <th>0</th>\n",
       "      <td>8</td>\n",
       "      <td>5</td>\n",
       "      <td>4</td>\n",
       "      <td>3</td>\n",
       "      <td>3</td>\n",
       "      <td>2</td>\n",
       "      <td>2</td>\n",
       "      <td>2</td>\n",
       "      <td>2</td>\n",
       "      <td>2</td>\n",
       "      <td>...</td>\n",
       "      <td>1</td>\n",
       "      <td>1</td>\n",
       "      <td>1</td>\n",
       "      <td>1</td>\n",
       "      <td>1</td>\n",
       "      <td>1</td>\n",
       "      <td>1</td>\n",
       "      <td>1</td>\n",
       "      <td>1</td>\n",
       "      <td>1</td>\n",
       "    </tr>\n",
       "  </tbody>\n",
       "</table>\n",
       "<p>1 rows × 31 columns</p>\n",
       "</div>"
      ],
      "text/plain": [
       "   crimson  firebrick  dimgrey  indianred  grey  linen  tan  mediumpurple  \\\n",
       "0        8          5        4          3     3      2    2             2   \n",
       "\n",
       "   rosybrown  red  ...  saddlebrown  chocolate  slateblue  gold  royalblue  \\\n",
       "0          2    2  ...            1          1          1     1          1   \n",
       "\n",
       "   greenyellow  lightseagreen  orangered  skyblue  pink  \n",
       "0            1              1          1        1     1  \n",
       "\n",
       "[1 rows x 31 columns]"
      ]
     },
     "execution_count": 23,
     "metadata": {},
     "output_type": "execute_result"
    }
   ],
   "source": [
    "palette_df.sort_values(by=0, ascending=False, axis=1)"
   ]
  },
  {
   "cell_type": "code",
   "execution_count": null,
   "metadata": {},
   "outputs": [],
   "source": []
  }
 ],
 "metadata": {
  "kernelspec": {
   "display_name": "Python 3",
   "language": "python",
   "name": "python3"
  },
  "language_info": {
   "codemirror_mode": {
    "name": "ipython",
    "version": 3
   },
   "file_extension": ".py",
   "mimetype": "text/x-python",
   "name": "python",
   "nbconvert_exporter": "python",
   "pygments_lexer": "ipython3",
   "version": "3.7.3"
  }
 },
 "nbformat": 4,
 "nbformat_minor": 2
}
