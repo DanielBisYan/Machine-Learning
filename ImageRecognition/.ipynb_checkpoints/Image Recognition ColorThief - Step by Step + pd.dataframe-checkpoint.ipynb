{
 "cells": [
  {
   "cell_type": "markdown",
   "metadata": {},
   "source": [
    "## Getting dominant color plus pallete of colors from an image"
   ]
  },
  {
   "cell_type": "code",
   "execution_count": 4,
   "metadata": {},
   "outputs": [],
   "source": [
    "from colorthief import ColorThief\n",
    "import webcolors as wc\n",
    "import numpy as np"
   ]
  },
  {
   "cell_type": "code",
   "execution_count": 97,
   "metadata": {},
   "outputs": [],
   "source": [
    "color_thief = ColorThief('banner1.png')"
   ]
  },
  {
   "cell_type": "code",
   "execution_count": 98,
   "metadata": {},
   "outputs": [
    {
     "data": {
      "text/plain": [
       "(209, 124, 193)"
      ]
     },
     "execution_count": 98,
     "metadata": {},
     "output_type": "execute_result"
    }
   ],
   "source": [
    "domintant_color = color_thief.get_color(quality=1)\n",
    "domintant_color"
   ]
  },
  {
   "cell_type": "code",
   "execution_count": 99,
   "metadata": {},
   "outputs": [
    {
     "data": {
      "text/plain": [
       "[(209, 15, 210),\n",
       " (15, 202, 224),\n",
       " (207, 214, 221),\n",
       " (65, 60, 124),\n",
       " (70, 84, 171),\n",
       " (251, 77, 7),\n",
       " (27, 39, 78),\n",
       " (87, 62, 81),\n",
       " (156, 149, 147),\n",
       " (193, 101, 158),\n",
       " (6, 12, 27),\n",
       " (15, 24, 54),\n",
       " (49, 41, 50),\n",
       " (57, 82, 79),\n",
       " (10, 18, 44),\n",
       " (31, 45, 55),\n",
       " (30, 24, 39),\n",
       " (4, 5, 11),\n",
       " (14, 28, 43)]"
      ]
     },
     "execution_count": 99,
     "metadata": {},
     "output_type": "execute_result"
    }
   ],
   "source": [
    "palette = color_thief.get_palette(color_count=20)\n",
    "palette"
   ]
  },
  {
   "cell_type": "markdown",
   "metadata": {},
   "source": [
    "## Converting colors to English names"
   ]
  },
  {
   "cell_type": "code",
   "execution_count": 100,
   "metadata": {},
   "outputs": [],
   "source": [
    "def get_approx_color(hex_color):\n",
    "    orig = wc.hex_to_rgb(hex_color)\n",
    "    similarity = {}\n",
    "    for hex_code, color_name in wc.css3_hex_to_names.items():\n",
    "        approx = wc.hex_to_rgb(hex_code)\n",
    "        similarity[color_name] = sum(np.subtract(orig, approx) ** 2)\n",
    "    return min(similarity, key=similarity.get)\n",
    "\n",
    "def get_color_name(hex_color):\n",
    "    try:\n",
    "        return wc.hex_to_name(hex_color)\n",
    "    except ValueError:\n",
    "        return get_approx_color(hex_color)"
   ]
  },
  {
   "cell_type": "code",
   "execution_count": 101,
   "metadata": {},
   "outputs": [
    {
     "data": {
      "text/plain": [
       "'darkviolet'"
      ]
     },
     "execution_count": 101,
     "metadata": {},
     "output_type": "execute_result"
    }
   ],
   "source": [
    "get_color_name(wc.rgb_to_hex((120, 0, 255)))"
   ]
  },
  {
   "cell_type": "markdown",
   "metadata": {},
   "source": [
    "## Accessing images from a folder\n"
   ]
  },
  {
   "cell_type": "code",
   "execution_count": 102,
   "metadata": {},
   "outputs": [
    {
     "name": "stdout",
     "output_type": "stream",
     "text": [
      "['1.PNG', '11.11(2).PNG', '11.11(3).PNG', '11.11.PNG', '11.13(1).PNG', '11.18(2).PNG', '11.7(1).PNG', '11.7(2).PNG', '11.7(3).PNG', '11.7.PNG', '21.11(1).PNG', '21.11(3).PNG']\n"
     ]
    }
   ],
   "source": [
    "import os\n",
    "\n",
    "all_images = [file for file in os.listdir(r'C:\\Users\\Daniel\\Desktop\\Image recognition\\Image Recognition 27.11\\data')]\n",
    "print(all_images)"
   ]
  },
  {
   "cell_type": "markdown",
   "metadata": {},
   "source": [
    "## Looping through images and getting their dominant color to a list and pallete to a list"
   ]
  },
  {
   "cell_type": "code",
   "execution_count": 103,
   "metadata": {},
   "outputs": [],
   "source": [
    "dominant_colors = []\n",
    "palette_colors = []\n",
    "\n",
    "for image in all_images:\n",
    "    image = 'data/' + image\n",
    "    color_thief = ColorThief(image)\n",
    "    domintant_color = color_thief.get_color(quality=1)\n",
    "    palette = color_thief.get_palette(color_count=20)\n",
    "    dominant_colors.append(domintant_color)\n",
    "    palette_colors.append(palette)\n",
    "    "
   ]
  },
  {
   "cell_type": "markdown",
   "metadata": {},
   "source": [
    "## Converting list of rgb colors to English names"
   ]
  },
  {
   "cell_type": "code",
   "execution_count": 104,
   "metadata": {},
   "outputs": [],
   "source": [
    "dominant_colors_english = []\n",
    "palette_colors_english = []\n",
    "\n",
    "for color_rgb in dominant_colors:\n",
    "    dominant_colors_english.append(get_color_name(wc.rgb_to_hex(color_rgb)))\n",
    "    \n",
    "for colors_list in palette_colors:\n",
    "    for color_rgb in colors_list:\n",
    "        palette_colors_english.append(get_color_name(wc.rgb_to_hex(color_rgb)))"
   ]
  },
  {
   "cell_type": "code",
   "execution_count": 105,
   "metadata": {},
   "outputs": [
    {
     "data": {
      "text/plain": [
       "['black',\n",
       " 'black',\n",
       " 'darkgrey',\n",
       " 'thistle',\n",
       " 'yellowgreen',\n",
       " 'darkslategrey',\n",
       " 'darkslategrey',\n",
       " 'darkkhaki',\n",
       " 'mistyrose',\n",
       " 'orchid',\n",
       " 'thistle',\n",
       " 'darkslateblue']"
      ]
     },
     "execution_count": 105,
     "metadata": {},
     "output_type": "execute_result"
    }
   ],
   "source": [
    "dominant_colors_english"
   ]
  },
  {
   "cell_type": "code",
   "execution_count": 106,
   "metadata": {},
   "outputs": [
    {
     "data": {
      "text/plain": [
       "['orangered',\n",
       " 'silver',\n",
       " 'dimgrey',\n",
       " 'yellow',\n",
       " 'gray',\n",
       " 'darkslategrey',\n",
       " 'saddlebrown',\n",
       " 'olive',\n",
       " 'gray',\n",
       " 'black',\n",
       " 'darkslategrey',\n",
       " 'darkslategrey',\n",
       " 'black',\n",
       " 'darkslategrey',\n",
       " 'black',\n",
       " 'black',\n",
       " 'black',\n",
       " 'black',\n",
       " 'black',\n",
       " 'lightgrey',\n",
       " 'goldenrod',\n",
       " 'dimgrey',\n",
       " 'darkkhaki',\n",
       " 'gray',\n",
       " 'darkslategrey',\n",
       " 'khaki',\n",
       " 'black',\n",
       " 'lightslategrey',\n",
       " 'black',\n",
       " 'darkslategrey',\n",
       " 'black',\n",
       " 'darkslategrey',\n",
       " 'saddlebrown',\n",
       " 'darkslategrey',\n",
       " 'darkslategrey',\n",
       " 'black',\n",
       " 'black',\n",
       " 'black',\n",
       " 'lightgrey',\n",
       " 'sienna',\n",
       " 'darkslategrey',\n",
       " 'skyblue',\n",
       " 'gray',\n",
       " 'dimgrey',\n",
       " 'rosybrown',\n",
       " 'cadetblue',\n",
       " 'silver',\n",
       " 'darkgrey',\n",
       " 'steelblue',\n",
       " 'powderblue',\n",
       " 'lightseagreen',\n",
       " 'dimgrey',\n",
       " 'lightsteelblue',\n",
       " 'darksalmon',\n",
       " 'cadetblue',\n",
       " 'cadetblue',\n",
       " 'lightblue',\n",
       " 'firebrick',\n",
       " 'chocolate',\n",
       " 'darkslategrey',\n",
       " 'gray',\n",
       " 'gold',\n",
       " 'darkkhaki',\n",
       " 'pink',\n",
       " 'whitesmoke',\n",
       " 'darkgrey',\n",
       " 'lightseagreen',\n",
       " 'rosybrown',\n",
       " 'tan',\n",
       " 'dimgrey',\n",
       " 'silver',\n",
       " 'royalblue',\n",
       " 'lightpink',\n",
       " 'darkolivegreen',\n",
       " 'lightpink',\n",
       " 'gainsboro',\n",
       " 'beige',\n",
       " 'yellowgreen',\n",
       " 'gold',\n",
       " 'darkseagreen',\n",
       " 'darkslategrey',\n",
       " 'darkkhaki',\n",
       " 'olivedrab',\n",
       " 'khaki',\n",
       " 'olivedrab',\n",
       " 'yellowgreen',\n",
       " 'darkgrey',\n",
       " 'darkgrey',\n",
       " 'yellowgreen',\n",
       " 'darkkhaki',\n",
       " 'yellowgreen',\n",
       " 'goldenrod',\n",
       " 'yellowgreen',\n",
       " 'olivedrab',\n",
       " 'olivedrab',\n",
       " 'darkslategrey',\n",
       " 'orangered',\n",
       " 'firebrick',\n",
       " 'mediumturquoise',\n",
       " 'pink',\n",
       " 'whitesmoke',\n",
       " 'gray',\n",
       " 'rosybrown',\n",
       " 'darkgrey',\n",
       " 'tan',\n",
       " 'black',\n",
       " 'darkcyan',\n",
       " 'darkgrey',\n",
       " 'dimgrey',\n",
       " 'lightpink',\n",
       " 'tan',\n",
       " 'dimgrey',\n",
       " 'gainsboro',\n",
       " 'indianred',\n",
       " 'darkslategrey',\n",
       " 'crimson',\n",
       " 'gray',\n",
       " 'lightgrey',\n",
       " 'dimgrey',\n",
       " 'black',\n",
       " 'darkgrey',\n",
       " 'black',\n",
       " 'dimgrey',\n",
       " 'black',\n",
       " 'darkgrey',\n",
       " 'dimgrey',\n",
       " 'lightcoral',\n",
       " 'darkgrey',\n",
       " 'darkgrey',\n",
       " 'darkslategrey',\n",
       " 'darkslategrey',\n",
       " 'darkslategrey',\n",
       " 'black',\n",
       " 'darkslategrey',\n",
       " 'lightgrey',\n",
       " 'saddlebrown',\n",
       " 'chocolate',\n",
       " 'silver',\n",
       " 'sienna',\n",
       " 'darkkhaki',\n",
       " 'khaki',\n",
       " 'gray',\n",
       " 'peru',\n",
       " 'darkkhaki',\n",
       " 'tan',\n",
       " 'burlywood',\n",
       " 'steelblue',\n",
       " 'peru',\n",
       " 'gold',\n",
       " 'burlywood',\n",
       " 'cornflowerblue',\n",
       " 'cornflowerblue',\n",
       " 'darkslategrey',\n",
       " 'crimson',\n",
       " 'peru',\n",
       " 'chocolate',\n",
       " 'palevioletred',\n",
       " 'lavenderblush',\n",
       " 'burlywood',\n",
       " 'lavenderblush',\n",
       " 'peachpuff',\n",
       " 'sienna',\n",
       " 'lightpink',\n",
       " 'lightcoral',\n",
       " 'darkseagreen',\n",
       " 'gray',\n",
       " 'pink',\n",
       " 'antiquewhite',\n",
       " 'lavender',\n",
       " 'mistyrose',\n",
       " 'lightgrey',\n",
       " 'darkviolet',\n",
       " 'darkturquoise',\n",
       " 'lightgrey',\n",
       " 'darkslateblue',\n",
       " 'darkslateblue',\n",
       " 'orangered',\n",
       " 'midnightblue',\n",
       " 'darkslategrey',\n",
       " 'darkgrey',\n",
       " 'palevioletred',\n",
       " 'black',\n",
       " 'midnightblue',\n",
       " 'darkslategrey',\n",
       " 'darkslategrey',\n",
       " 'black',\n",
       " 'darkslategrey',\n",
       " 'black',\n",
       " 'black',\n",
       " 'black',\n",
       " 'brown',\n",
       " 'darkslategrey',\n",
       " 'chocolate',\n",
       " 'rosybrown',\n",
       " 'whitesmoke',\n",
       " 'rosybrown',\n",
       " 'darkgrey',\n",
       " 'limegreen',\n",
       " 'pink',\n",
       " 'silver',\n",
       " 'dimgrey',\n",
       " 'darkslateblue',\n",
       " 'tan',\n",
       " 'gainsboro',\n",
       " 'lightpink',\n",
       " 'tan',\n",
       " 'lightgrey',\n",
       " 'dimgrey',\n",
       " 'lightpink',\n",
       " 'royalblue',\n",
       " 'gainsboro',\n",
       " 'dimgrey',\n",
       " 'dodgerblue',\n",
       " 'chocolate',\n",
       " 'darkslategrey',\n",
       " 'black',\n",
       " 'mediumvioletred',\n",
       " 'dimgrey',\n",
       " 'palevioletred',\n",
       " 'darkslateblue',\n",
       " 'darkslateblue',\n",
       " 'slategrey',\n",
       " 'darkslateblue',\n",
       " 'indigo',\n",
       " 'darkslateblue',\n",
       " 'darkslategrey',\n",
       " 'midnightblue',\n",
       " 'darkgrey']"
      ]
     },
     "execution_count": 106,
     "metadata": {},
     "output_type": "execute_result"
    }
   ],
   "source": [
    "palette_colors_english"
   ]
  },
  {
   "cell_type": "markdown",
   "metadata": {},
   "source": [
    "## Checking how many times color occurs in a list"
   ]
  },
  {
   "cell_type": "code",
   "execution_count": 107,
   "metadata": {},
   "outputs": [],
   "source": [
    "from collections import Counter\n",
    "import pandas as pd"
   ]
  },
  {
   "cell_type": "code",
   "execution_count": 117,
   "metadata": {},
   "outputs": [],
   "source": [
    "palette_eng_dict = dict(Counter(palette_colors_english))"
   ]
  },
  {
   "cell_type": "code",
   "execution_count": 109,
   "metadata": {},
   "outputs": [],
   "source": [
    "dominant_eng_dict = dict(Counter(dominant_colors_english))"
   ]
  },
  {
   "cell_type": "code",
   "execution_count": 124,
   "metadata": {},
   "outputs": [
    {
     "data": {
      "text/plain": [
       "{'orangered': 3,\n",
       " 'silver': 5,\n",
       " 'dimgrey': 14,\n",
       " 'yellow': 1,\n",
       " 'gray': 9,\n",
       " 'darkslategrey': 26,\n",
       " 'saddlebrown': 3,\n",
       " 'olive': 1,\n",
       " 'black': 24,\n",
       " 'lightgrey': 7,\n",
       " 'goldenrod': 2,\n",
       " 'darkkhaki': 6,\n",
       " 'khaki': 3,\n",
       " 'lightslategrey': 1,\n",
       " 'sienna': 3,\n",
       " 'skyblue': 1,\n",
       " 'rosybrown': 5,\n",
       " 'cadetblue': 3,\n",
       " 'darkgrey': 13,\n",
       " 'steelblue': 2,\n",
       " 'powderblue': 1,\n",
       " 'lightseagreen': 2,\n",
       " 'lightsteelblue': 1,\n",
       " 'darksalmon': 1,\n",
       " 'lightblue': 1,\n",
       " 'firebrick': 2,\n",
       " 'chocolate': 5,\n",
       " 'gold': 3,\n",
       " 'pink': 4,\n",
       " 'whitesmoke': 3,\n",
       " 'tan': 6,\n",
       " 'royalblue': 2,\n",
       " 'lightpink': 6,\n",
       " 'darkolivegreen': 1,\n",
       " 'gainsboro': 4,\n",
       " 'beige': 1,\n",
       " 'yellowgreen': 5,\n",
       " 'darkseagreen': 2,\n",
       " 'olivedrab': 4,\n",
       " 'mediumturquoise': 1,\n",
       " 'darkcyan': 1,\n",
       " 'indianred': 1,\n",
       " 'crimson': 2,\n",
       " 'lightcoral': 2,\n",
       " 'peru': 3,\n",
       " 'burlywood': 3,\n",
       " 'cornflowerblue': 2,\n",
       " 'palevioletred': 3,\n",
       " 'lavenderblush': 2,\n",
       " 'peachpuff': 1,\n",
       " 'antiquewhite': 1,\n",
       " 'lavender': 1,\n",
       " 'mistyrose': 1,\n",
       " 'darkviolet': 1,\n",
       " 'darkturquoise': 1,\n",
       " 'darkslateblue': 7,\n",
       " 'midnightblue': 3,\n",
       " 'brown': 1,\n",
       " 'limegreen': 1,\n",
       " 'dodgerblue': 1,\n",
       " 'mediumvioletred': 1,\n",
       " 'slategrey': 1,\n",
       " 'indigo': 1}"
      ]
     },
     "execution_count": 124,
     "metadata": {},
     "output_type": "execute_result"
    }
   ],
   "source": [
    "palette_eng_dict"
   ]
  },
  {
   "cell_type": "markdown",
   "metadata": {},
   "source": [
    "## Coverting dictionary of colors to pandas data frame"
   ]
  },
  {
   "cell_type": "markdown",
   "metadata": {},
   "source": [
    "#### Converting \"Counter(dominant_colors_english)\" values to list, so we can convert it to data frame"
   ]
  },
  {
   "cell_type": "code",
   "execution_count": 111,
   "metadata": {},
   "outputs": [],
   "source": [
    "def convert_dictvalues_to_list(dictionary):\n",
    "    make_list = []\n",
    "    for key in dictionary:\n",
    "        make_list.append(dictionary[key])\n",
    "        dictionary[key] = make_list\n",
    "        make_list = []\n",
    "    return dictionary\n",
    "    #return dictionary\n",
    "#for sub in the_list:\n",
    " #   for key in sub:\n",
    "  #      sub[key] = int(sub[key])"
   ]
  },
  {
   "cell_type": "code",
   "execution_count": 113,
   "metadata": {},
   "outputs": [],
   "source": [
    "dominant_data = convert_dictvalues_to_list(dominant_eng_dict)"
   ]
  },
  {
   "cell_type": "code",
   "execution_count": 125,
   "metadata": {},
   "outputs": [],
   "source": [
    "palette_data = convert_dictvalues_to_list(palette_eng_dict)"
   ]
  },
  {
   "cell_type": "code",
   "execution_count": 126,
   "metadata": {},
   "outputs": [],
   "source": [
    "dominant_df = pd.DataFrame.from_dict(dominant_data)"
   ]
  },
  {
   "cell_type": "code",
   "execution_count": 127,
   "metadata": {},
   "outputs": [
    {
     "data": {
      "text/html": [
       "<div>\n",
       "<style scoped>\n",
       "    .dataframe tbody tr th:only-of-type {\n",
       "        vertical-align: middle;\n",
       "    }\n",
       "\n",
       "    .dataframe tbody tr th {\n",
       "        vertical-align: top;\n",
       "    }\n",
       "\n",
       "    .dataframe thead th {\n",
       "        text-align: right;\n",
       "    }\n",
       "</style>\n",
       "<table border=\"1\" class=\"dataframe\">\n",
       "  <thead>\n",
       "    <tr style=\"text-align: right;\">\n",
       "      <th></th>\n",
       "      <th>black</th>\n",
       "      <th>darkgrey</th>\n",
       "      <th>thistle</th>\n",
       "      <th>yellowgreen</th>\n",
       "      <th>darkslategrey</th>\n",
       "      <th>darkkhaki</th>\n",
       "      <th>mistyrose</th>\n",
       "      <th>orchid</th>\n",
       "      <th>darkslateblue</th>\n",
       "    </tr>\n",
       "  </thead>\n",
       "  <tbody>\n",
       "    <tr>\n",
       "      <td>0</td>\n",
       "      <td>[2]</td>\n",
       "      <td>[1]</td>\n",
       "      <td>[2]</td>\n",
       "      <td>[1]</td>\n",
       "      <td>[2]</td>\n",
       "      <td>[1]</td>\n",
       "      <td>[1]</td>\n",
       "      <td>[1]</td>\n",
       "      <td>[1]</td>\n",
       "    </tr>\n",
       "  </tbody>\n",
       "</table>\n",
       "</div>"
      ],
      "text/plain": [
       "  black darkgrey thistle yellowgreen darkslategrey darkkhaki mistyrose orchid  \\\n",
       "0   [2]      [1]     [2]         [1]           [2]       [1]       [1]    [1]   \n",
       "\n",
       "  darkslateblue  \n",
       "0           [1]  "
      ]
     },
     "execution_count": 127,
     "metadata": {},
     "output_type": "execute_result"
    }
   ],
   "source": [
    "dominant_df.head()"
   ]
  },
  {
   "cell_type": "code",
   "execution_count": 128,
   "metadata": {},
   "outputs": [],
   "source": [
    "palette_df = pd.DataFrame.from_dict(palette_data)"
   ]
  },
  {
   "cell_type": "code",
   "execution_count": 133,
   "metadata": {},
   "outputs": [
    {
     "data": {
      "text/html": [
       "<div>\n",
       "<style scoped>\n",
       "    .dataframe tbody tr th:only-of-type {\n",
       "        vertical-align: middle;\n",
       "    }\n",
       "\n",
       "    .dataframe tbody tr th {\n",
       "        vertical-align: top;\n",
       "    }\n",
       "\n",
       "    .dataframe thead th {\n",
       "        text-align: right;\n",
       "    }\n",
       "</style>\n",
       "<table border=\"1\" class=\"dataframe\">\n",
       "  <thead>\n",
       "    <tr style=\"text-align: right;\">\n",
       "      <th></th>\n",
       "      <th>orangered</th>\n",
       "      <th>silver</th>\n",
       "      <th>dimgrey</th>\n",
       "      <th>yellow</th>\n",
       "      <th>gray</th>\n",
       "      <th>darkslategrey</th>\n",
       "      <th>saddlebrown</th>\n",
       "      <th>olive</th>\n",
       "      <th>black</th>\n",
       "      <th>lightgrey</th>\n",
       "      <th>...</th>\n",
       "      <th>darkviolet</th>\n",
       "      <th>darkturquoise</th>\n",
       "      <th>darkslateblue</th>\n",
       "      <th>midnightblue</th>\n",
       "      <th>brown</th>\n",
       "      <th>limegreen</th>\n",
       "      <th>dodgerblue</th>\n",
       "      <th>mediumvioletred</th>\n",
       "      <th>slategrey</th>\n",
       "      <th>indigo</th>\n",
       "    </tr>\n",
       "  </thead>\n",
       "  <tbody>\n",
       "    <tr>\n",
       "      <td>0</td>\n",
       "      <td>3</td>\n",
       "      <td>5</td>\n",
       "      <td>14</td>\n",
       "      <td>1</td>\n",
       "      <td>9</td>\n",
       "      <td>26</td>\n",
       "      <td>3</td>\n",
       "      <td>1</td>\n",
       "      <td>24</td>\n",
       "      <td>7</td>\n",
       "      <td>...</td>\n",
       "      <td>1</td>\n",
       "      <td>1</td>\n",
       "      <td>7</td>\n",
       "      <td>3</td>\n",
       "      <td>1</td>\n",
       "      <td>1</td>\n",
       "      <td>1</td>\n",
       "      <td>1</td>\n",
       "      <td>1</td>\n",
       "      <td>1</td>\n",
       "    </tr>\n",
       "  </tbody>\n",
       "</table>\n",
       "<p>1 rows × 63 columns</p>\n",
       "</div>"
      ],
      "text/plain": [
       "   orangered  silver  dimgrey  yellow  gray  darkslategrey  saddlebrown  \\\n",
       "0          3       5       14       1     9             26            3   \n",
       "\n",
       "   olive  black  lightgrey  ...  darkviolet  darkturquoise  darkslateblue  \\\n",
       "0      1     24          7  ...           1              1              7   \n",
       "\n",
       "   midnightblue  brown  limegreen  dodgerblue  mediumvioletred  slategrey  \\\n",
       "0             3      1          1           1                1          1   \n",
       "\n",
       "   indigo  \n",
       "0       1  \n",
       "\n",
       "[1 rows x 63 columns]"
      ]
     },
     "execution_count": 133,
     "metadata": {},
     "output_type": "execute_result"
    }
   ],
   "source": [
    "palette_df"
   ]
  },
  {
   "cell_type": "code",
   "execution_count": 134,
   "metadata": {},
   "outputs": [
    {
     "data": {
      "text/html": [
       "<div>\n",
       "<style scoped>\n",
       "    .dataframe tbody tr th:only-of-type {\n",
       "        vertical-align: middle;\n",
       "    }\n",
       "\n",
       "    .dataframe tbody tr th {\n",
       "        vertical-align: top;\n",
       "    }\n",
       "\n",
       "    .dataframe thead th {\n",
       "        text-align: right;\n",
       "    }\n",
       "</style>\n",
       "<table border=\"1\" class=\"dataframe\">\n",
       "  <thead>\n",
       "    <tr style=\"text-align: right;\">\n",
       "      <th></th>\n",
       "      <th>darkslategrey</th>\n",
       "      <th>black</th>\n",
       "      <th>dimgrey</th>\n",
       "      <th>darkgrey</th>\n",
       "      <th>gray</th>\n",
       "      <th>darkslateblue</th>\n",
       "      <th>lightgrey</th>\n",
       "      <th>lightpink</th>\n",
       "      <th>tan</th>\n",
       "      <th>darkkhaki</th>\n",
       "      <th>...</th>\n",
       "      <th>lightslategrey</th>\n",
       "      <th>skyblue</th>\n",
       "      <th>powderblue</th>\n",
       "      <th>lightsteelblue</th>\n",
       "      <th>indianred</th>\n",
       "      <th>darkcyan</th>\n",
       "      <th>mediumturquoise</th>\n",
       "      <th>darksalmon</th>\n",
       "      <th>lightblue</th>\n",
       "      <th>indigo</th>\n",
       "    </tr>\n",
       "  </thead>\n",
       "  <tbody>\n",
       "    <tr>\n",
       "      <td>0</td>\n",
       "      <td>26</td>\n",
       "      <td>24</td>\n",
       "      <td>14</td>\n",
       "      <td>13</td>\n",
       "      <td>9</td>\n",
       "      <td>7</td>\n",
       "      <td>7</td>\n",
       "      <td>6</td>\n",
       "      <td>6</td>\n",
       "      <td>6</td>\n",
       "      <td>...</td>\n",
       "      <td>1</td>\n",
       "      <td>1</td>\n",
       "      <td>1</td>\n",
       "      <td>1</td>\n",
       "      <td>1</td>\n",
       "      <td>1</td>\n",
       "      <td>1</td>\n",
       "      <td>1</td>\n",
       "      <td>1</td>\n",
       "      <td>1</td>\n",
       "    </tr>\n",
       "  </tbody>\n",
       "</table>\n",
       "<p>1 rows × 63 columns</p>\n",
       "</div>"
      ],
      "text/plain": [
       "   darkslategrey  black  dimgrey  darkgrey  gray  darkslateblue  lightgrey  \\\n",
       "0             26     24       14        13     9              7          7   \n",
       "\n",
       "   lightpink  tan  darkkhaki  ...  lightslategrey  skyblue  powderblue  \\\n",
       "0          6    6          6  ...               1        1           1   \n",
       "\n",
       "   lightsteelblue  indianred  darkcyan  mediumturquoise  darksalmon  \\\n",
       "0               1          1         1                1           1   \n",
       "\n",
       "   lightblue  indigo  \n",
       "0          1       1  \n",
       "\n",
       "[1 rows x 63 columns]"
      ]
     },
     "execution_count": 134,
     "metadata": {},
     "output_type": "execute_result"
    }
   ],
   "source": [
    "palette_df.sort_values(by=0, ascending=False, axis=1)"
   ]
  },
  {
   "cell_type": "code",
   "execution_count": null,
   "metadata": {},
   "outputs": [],
   "source": []
  }
 ],
 "metadata": {
  "kernelspec": {
   "display_name": "Python 3",
   "language": "python",
   "name": "python3"
  },
  "language_info": {
   "codemirror_mode": {
    "name": "ipython",
    "version": 3
   },
   "file_extension": ".py",
   "mimetype": "text/x-python",
   "name": "python",
   "nbconvert_exporter": "python",
   "pygments_lexer": "ipython3",
   "version": "3.7.3"
  }
 },
 "nbformat": 4,
 "nbformat_minor": 2
}
