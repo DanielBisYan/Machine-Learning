{
 "cells": [
  {
   "cell_type": "markdown",
   "metadata": {},
   "source": [
    "# The program extracts dominant colors and palette of colors from an image "
   ]
  },
  {
   "cell_type": "code",
   "execution_count": 1,
   "metadata": {},
   "outputs": [],
   "source": [
    "from colorthief import ColorThief\n",
    "import webcolors as wc\n",
    "import numpy as np\n",
    "import pandas as pd\n",
    "from collections import Counter\n",
    "import os"
   ]
  },
  {
   "cell_type": "code",
   "execution_count": 2,
   "metadata": {},
   "outputs": [],
   "source": [
    "class ExtractColor():\n",
    "    def __init__(self, path, number_of_colors):\n",
    "        self.path = path\n",
    "        self.number_of_colors = number_of_colors\n",
    "    \n",
    "    def get_rgb_colors(self):\n",
    "        \n",
    "        #access images from a folder\n",
    "        all_images = [file for file in os.listdir(rf'{self.path}')]\n",
    "        #print(all_images)\n",
    "        \n",
    "        #loop through files -> getting dominant/pallete\n",
    "        #returns list of rgb\n",
    "        dominant_colors = []\n",
    "        palette_colors = []\n",
    "\n",
    "        for image in all_images:\n",
    "            #image = 'images/' + image\n",
    "            color_thief = ColorThief(image)\n",
    "            domintant_color = color_thief.get_color(quality=1)\n",
    "            palette = color_thief.get_palette(color_count=self.number_of_colors)\n",
    "            dominant_colors.append(domintant_color)\n",
    "            palette_colors.append(palette) \n",
    "        return [dominant_colors, palette_colors]\n",
    "        \n",
    "    def get_eng_colors(self):  \n",
    "        #convert\n",
    "        \n",
    "        dominant_colors = self.get_rgb_colors()\n",
    "        palette_colors = self.get_rgb_colors()\n",
    "        \n",
    "        dominant_colors_english = []\n",
    "        palette_colors_english = []\n",
    "\n",
    "        for color_rgb in dominant_colors[0]:\n",
    "            dominant_colors_english.append(self.get_color_name(wc.rgb_to_hex(color_rgb)))\n",
    "    \n",
    "        for colors_list in palette_colors[1]:\n",
    "            for color_rgb in colors_list:\n",
    "                palette_colors_english.append(self.get_color_name(wc.rgb_to_hex(color_rgb)))\n",
    "        return dominant_colors_english, palette_colors_english  \n",
    "    \n",
    "    def get_approx_color(self, hex_color):\n",
    "        orig = wc.hex_to_rgb(hex_color)\n",
    "        similarity = {}\n",
    "        for hex_code, color_name in wc.css3_hex_to_names.items():\n",
    "            approx = wc.hex_to_rgb(hex_code)\n",
    "            similarity[color_name] = sum(np.subtract(orig, approx) ** 2)\n",
    "        return min(similarity, key=similarity.get)\n",
    "\n",
    "    def get_color_name(self, hex_color):\n",
    "        try:\n",
    "            return wc.hex_to_name(hex_color)\n",
    "        except ValueError:\n",
    "            return self.get_approx_color(hex_color)\n",
    "        \n",
    "        \n",
    "        \n"
   ]
  }
 ],
 "metadata": {
  "kernelspec": {
   "display_name": "Python 3",
   "language": "python",
   "name": "python3"
  },
  "language_info": {
   "codemirror_mode": {
    "name": "ipython",
    "version": 3
   },
   "file_extension": ".py",
   "mimetype": "text/x-python",
   "name": "python",
   "nbconvert_exporter": "python",
   "pygments_lexer": "ipython3",
   "version": "3.7.3"
  }
 },
 "nbformat": 4,
 "nbformat_minor": 2
}
