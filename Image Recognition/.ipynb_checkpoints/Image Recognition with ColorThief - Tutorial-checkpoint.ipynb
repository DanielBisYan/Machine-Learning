{
 "cells": [
  {
   "cell_type": "markdown",
   "metadata": {},
   "source": [
    "## Extracting dominant color plus pallete of colors from an image\n",
    "\n",
    "#### The library used for color extracting: [ColorThief](https://github.com/fengsp/color-thief-py) "
   ]
  },
  {
   "cell_type": "code",
   "execution_count": 35,
   "metadata": {},
   "outputs": [],
   "source": [
    "from colorthief import ColorThief\n",
    "import webcolors as wc\n",
    "import numpy as np"
   ]
  },
  {
   "cell_type": "code",
   "execution_count": 36,
   "metadata": {},
   "outputs": [],
   "source": [
    "color_thief = ColorThief('banner.jpg')"
   ]
  },
  {
   "cell_type": "code",
   "execution_count": 37,
   "metadata": {},
   "outputs": [],
   "source": [
    "domintant_color = color_thief.get_color(quality=1)"
   ]
  },
  {
   "cell_type": "code",
   "execution_count": 38,
   "metadata": {},
   "outputs": [
    {
     "data": {
      "text/plain": [
       "[(233, 233, 231),\n",
       " (57, 162, 158),\n",
       " (13, 12, 13),\n",
       " (185, 139, 95),\n",
       " (172, 164, 166),\n",
       " (221, 28, 27),\n",
       " (69, 98, 94),\n",
       " (234, 217, 32),\n",
       " (241, 90, 16),\n",
       " (140, 202, 202),\n",
       " (47, 115, 160),\n",
       " (131, 59, 48),\n",
       " (209, 91, 98),\n",
       " (172, 35, 35),\n",
       " (206, 53, 63),\n",
       " (216, 33, 45),\n",
       " (194, 36, 39),\n",
       " (245, 20, 28),\n",
       " (205, 53, 47)]"
      ]
     },
     "execution_count": 38,
     "metadata": {},
     "output_type": "execute_result"
    }
   ],
   "source": [
    "palette = color_thief.get_palette(color_count=20)\n",
    "palette"
   ]
  },
  {
   "cell_type": "markdown",
   "metadata": {},
   "source": [
    "## Converting RGB color to English color name"
   ]
  },
  {
   "cell_type": "code",
   "execution_count": 50,
   "metadata": {},
   "outputs": [
    {
     "data": {
      "text/plain": [
       "'darkslategrey'"
      ]
     },
     "execution_count": 50,
     "metadata": {},
     "output_type": "execute_result"
    }
   ],
   "source": [
    "palette = color_thief.get_palette(color_count=20)\n",
    "palette\n",
    "# Getting approx color\n",
    "def get_approx_color(hex_color):\n",
    "    orig = wc.hex_to_rgb(hex_color)\n",
    "    similarity = {}\n",
    "    for hex_code, color_name in wc.css3_hex_to_names.items():\n",
    "        approx = wc.hex_to_rgb(hex_code)\n",
    "        similarity[color_name] = sum(np.subtract(orig, approx) ** 2)\n",
    "    return min(similarity, key=similarity.get)\n",
    "\n",
    "# Getting the exact color\n",
    "def get_color_name(hex_color):\n",
    "    try:\n",
    "        return wc.hex_to_name(hex_color)\n",
    "    except ValueError:\n",
    "        return get_approx_color(hex_color)\n",
    "    \n",
    "get_color_name(wc.rgb_to_hex(palette[0]))"
   ]
  },
  {
   "cell_type": "code",
   "execution_count": 51,
   "metadata": {},
   "outputs": [
    {
     "data": {
      "text/plain": [
       "'darkslategrey'"
      ]
     },
     "execution_count": 51,
     "metadata": {},
     "output_type": "execute_result"
    }
   ],
   "source": [
    "get_color_name(wc.rgb_to_hex(palette[0]))"
   ]
  },
  {
   "cell_type": "markdown",
   "metadata": {},
   "source": [
    "## Accessing images from a folder\n"
   ]
  },
  {
   "cell_type": "code",
   "execution_count": 41,
   "metadata": {},
   "outputs": [
    {
     "name": "stdout",
     "output_type": "stream",
     "text": [
      "['banner.JPG', 'colors.jpg', 'Daniel1.jpg']\n"
     ]
    }
   ],
   "source": [
    "import os\n",
    "\n",
    "all_images = [file for file in os.listdir(r'C:\\Users\\bisku\\Desktop\\Machine_learning\\Machine_Learning\\ImageRecognition\\images')]\n",
    "print(all_images)"
   ]
  },
  {
   "cell_type": "markdown",
   "metadata": {},
   "source": [
    "## Looping through images and appending their dominant color to a list and pallete colors to a list\n",
    "\n",
    "#### returns lists of RGB colors"
   ]
  },
  {
   "cell_type": "code",
   "execution_count": 46,
   "metadata": {},
   "outputs": [
    {
     "data": {
      "text/plain": [
       "[(32, 64, 64), (235, 29, 37), (220, 211, 206)]"
      ]
     },
     "execution_count": 46,
     "metadata": {},
     "output_type": "execute_result"
    }
   ],
   "source": [
    "dominant_colors = []\n",
    "palette_colors = []\n",
    "\n",
    "for image in all_images:\n",
    "    image = 'images/' + image\n",
    "    color_thief = ColorThief(image)\n",
    "    domintant_color = color_thief.get_color(quality=1)\n",
    "    palette = color_thief.get_palette(color_count=20)\n",
    "    dominant_colors.append(domintant_color)\n",
    "    palette_colors.append(palette) \n",
    "dominant_colors"
   ]
  },
  {
   "cell_type": "markdown",
   "metadata": {},
   "source": [
    "## Converting list of rgb colors to English names"
   ]
  },
  {
   "cell_type": "code",
   "execution_count": 43,
   "metadata": {},
   "outputs": [],
   "source": [
    "dominant_colors_english = []\n",
    "palette_colors_english = []\n",
    "\n",
    "for color_rgb in dominant_colors:\n",
    "    dominant_colors_english.append(get_color_name(wc.rgb_to_hex(color_rgb)))\n",
    "    \n",
    "for colors_list in palette_colors:\n",
    "    for color_rgb in colors_list:\n",
    "        palette_colors_english.append(get_color_name(wc.rgb_to_hex(color_rgb)))"
   ]
  },
  {
   "cell_type": "code",
   "execution_count": 44,
   "metadata": {},
   "outputs": [
    {
     "data": {
      "text/plain": [
       "['darkslategrey', 'crimson', 'lightgrey']"
      ]
     },
     "execution_count": 44,
     "metadata": {},
     "output_type": "execute_result"
    }
   ],
   "source": [
    "dominant_colors_english"
   ]
  },
  {
   "cell_type": "code",
   "execution_count": 45,
   "metadata": {},
   "outputs": [
    {
     "data": {
      "text/plain": [
       "['linen',\n",
       " 'lightseagreen',\n",
       " 'black',\n",
       " 'peru',\n",
       " 'darkgrey',\n",
       " 'crimson',\n",
       " 'darkslategrey',\n",
       " 'gold',\n",
       " 'orangered',\n",
       " 'skyblue',\n",
       " 'steelblue',\n",
       " 'saddlebrown',\n",
       " 'indianred',\n",
       " 'firebrick',\n",
       " 'crimson',\n",
       " 'crimson',\n",
       " 'firebrick',\n",
       " 'red',\n",
       " 'firebrick',\n",
       " 'lightgrey',\n",
       " 'greenyellow',\n",
       " 'royalblue',\n",
       " 'crimson',\n",
       " 'indianred',\n",
       " 'rosybrown',\n",
       " 'slateblue',\n",
       " 'indianred',\n",
       " 'firebrick',\n",
       " 'chocolate',\n",
       " 'dimgrey',\n",
       " 'brown',\n",
       " 'crimson',\n",
       " 'mediumpurple',\n",
       " 'firebrick',\n",
       " 'crimson',\n",
       " 'crimson',\n",
       " 'crimson',\n",
       " 'red',\n",
       " 'darkslategrey',\n",
       " 'dimgrey',\n",
       " 'grey',\n",
       " 'grey',\n",
       " 'rosybrown',\n",
       " 'gainsboro',\n",
       " 'darkgrey',\n",
       " 'tan',\n",
       " 'tan',\n",
       " 'linen',\n",
       " 'lightpink',\n",
       " 'grey',\n",
       " 'silver',\n",
       " 'honeydew',\n",
       " 'lightgrey',\n",
       " 'pink',\n",
       " 'dimgrey',\n",
       " 'dimgrey',\n",
       " 'mediumpurple']"
      ]
     },
     "execution_count": 45,
     "metadata": {},
     "output_type": "execute_result"
    }
   ],
   "source": [
    "palette_colors_english"
   ]
  },
  {
   "cell_type": "markdown",
   "metadata": {},
   "source": [
    "## Checking how many times color occurs in a list"
   ]
  },
  {
   "cell_type": "code",
   "execution_count": 12,
   "metadata": {},
   "outputs": [],
   "source": [
    "from collections import Counter\n",
    "import pandas as pd"
   ]
  },
  {
   "cell_type": "code",
   "execution_count": 13,
   "metadata": {},
   "outputs": [],
   "source": [
    "palette_eng_dict = dict(Counter(palette_colors_english))"
   ]
  },
  {
   "cell_type": "code",
   "execution_count": 14,
   "metadata": {},
   "outputs": [],
   "source": [
    "dominant_eng_dict = dict(Counter(dominant_colors_english))"
   ]
  },
  {
   "cell_type": "code",
   "execution_count": 15,
   "metadata": {},
   "outputs": [
    {
     "data": {
      "text/plain": [
       "{'linen': 2,\n",
       " 'lightseagreen': 1,\n",
       " 'black': 1,\n",
       " 'peru': 1,\n",
       " 'darkgrey': 2,\n",
       " 'crimson': 8,\n",
       " 'darkslategrey': 2,\n",
       " 'gold': 1,\n",
       " 'orangered': 1,\n",
       " 'skyblue': 1,\n",
       " 'steelblue': 1,\n",
       " 'saddlebrown': 1,\n",
       " 'indianred': 3,\n",
       " 'firebrick': 5,\n",
       " 'red': 2,\n",
       " 'lightgrey': 2,\n",
       " 'greenyellow': 1,\n",
       " 'royalblue': 1,\n",
       " 'rosybrown': 2,\n",
       " 'slateblue': 1,\n",
       " 'chocolate': 1,\n",
       " 'dimgrey': 4,\n",
       " 'brown': 1,\n",
       " 'mediumpurple': 2,\n",
       " 'grey': 3,\n",
       " 'gainsboro': 1,\n",
       " 'tan': 2,\n",
       " 'lightpink': 1,\n",
       " 'silver': 1,\n",
       " 'honeydew': 1,\n",
       " 'pink': 1}"
      ]
     },
     "execution_count": 15,
     "metadata": {},
     "output_type": "execute_result"
    }
   ],
   "source": [
    "palette_eng_dict"
   ]
  },
  {
   "cell_type": "code",
   "execution_count": null,
   "metadata": {},
   "outputs": [],
   "source": []
  }
 ],
 "metadata": {
  "kernelspec": {
   "display_name": "Python 3",
   "language": "python",
   "name": "python3"
  },
  "language_info": {
   "codemirror_mode": {
    "name": "ipython",
    "version": 3
   },
   "file_extension": ".py",
   "mimetype": "text/x-python",
   "name": "python",
   "nbconvert_exporter": "python",
   "pygments_lexer": "ipython3",
   "version": "3.7.3"
  }
 },
 "nbformat": 4,
 "nbformat_minor": 2
}
